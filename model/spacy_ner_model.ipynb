{
 "cells": [
  {
   "cell_type": "code",
   "execution_count": 48,
   "id": "initial_id",
   "metadata": {
    "collapsed": true,
    "ExecuteTime": {
     "end_time": "2025-05-15T06:41:19.811397Z",
     "start_time": "2025-05-15T06:41:19.807677Z"
    }
   },
   "outputs": [],
   "source": [
    "import spacy\n",
    "from spacy.tokens import DocBin\n",
    "from tqdm import tqdm\n",
    "import json\n",
    "\n",
    "db = DocBin()"
   ]
  },
  {
   "cell_type": "code",
   "outputs": [],
   "source": [
    "!python -m spacy download en_core_web_lg"
   ],
   "metadata": {
    "collapsed": false
   },
   "id": "14f4aa3c73ece23c",
   "execution_count": null
  },
  {
   "cell_type": "code",
   "outputs": [],
   "source": [
    "nlp=spacy.load('en_core_web_lg')\n",
    "from spacy.lang.en import English"
   ],
   "metadata": {
    "collapsed": false,
    "ExecuteTime": {
     "end_time": "2025-05-14T07:05:28.844746Z",
     "start_time": "2025-05-14T07:05:27.895634Z"
    }
   },
   "id": "4bed88430883abc2",
   "execution_count": 10
  },
  {
   "cell_type": "code",
   "outputs": [],
   "source": [
    "file = open('/Users/sofiahalima/PycharmProjects/EntityExtractionDemo/data/annotations.json')\n",
    "training_data = json.load(file)"
   ],
   "metadata": {
    "collapsed": false,
    "ExecuteTime": {
     "end_time": "2025-05-15T06:41:24.712953Z",
     "start_time": "2025-05-15T06:41:24.707722Z"
    }
   },
   "id": "e8733d50d531b897",
   "execution_count": 49
  },
  {
   "cell_type": "code",
   "outputs": [
    {
     "name": "stderr",
     "output_type": "stream",
     "text": [
      "100%|██████████| 19/19 [00:00<00:00, 580.39it/s]\n"
     ]
    }
   ],
   "source": [
    "for text,annotation in tqdm(training_data[\"annotations\"]):\n",
    "    doc = nlp.make_doc(text)\n",
    "    entities=[]\n",
    "    for start, end, label in annotation[\"entities\"]:\n",
    "        span = doc.char_span(start, end, label=label, alignment_mode=\"contract\")\n",
    "        if span is not None:\n",
    "            entities.append(span)\n",
    "            \n",
    "    doc.ents = entities\n",
    "    db.add(doc)\n",
    "    \n",
    "    db.to_disk(\"training_data_doc.spacy\")"
   ],
   "metadata": {
    "collapsed": false,
    "ExecuteTime": {
     "end_time": "2025-05-15T06:45:04.906474Z",
     "start_time": "2025-05-15T06:45:04.867957Z"
    }
   },
   "id": "f4ef208e1902f36a",
   "execution_count": 51
  },
  {
   "cell_type": "code",
   "outputs": [],
   "source": [
    "!python -m spacy init config config.cfg --lang en --pipeline ner --optimize efficiency"
   ],
   "metadata": {
    "collapsed": false
   },
   "id": "af489f7d22449247",
   "execution_count": null
  },
  {
   "cell_type": "code",
   "outputs": [
    {
     "name": "stdout",
     "output_type": "stream",
     "text": [
      "/Users/sofiahalima/PycharmProjects/EntityExtractionDemo/.venv/lib/python3.9/site-packages/urllib3/__init__.py:35: NotOpenSSLWarning: urllib3 v2 only supports OpenSSL 1.1.1+, currently the 'ssl' module is compiled with 'LibreSSL 2.8.3'. See: https://github.com/urllib3/urllib3/issues/3020\r\n",
      "  warnings.warn(\r\n",
      "\u001B[38;5;4mℹ Saving to output directory: output\u001B[0m\r\n",
      "\u001B[38;5;4mℹ Using CPU\u001B[0m\r\n",
      "\u001B[1m\r\n",
      "=========================== Initializing pipeline ===========================\u001B[0m\r\n",
      "\u001B[38;5;2m✔ Initialized pipeline\u001B[0m\r\n",
      "\u001B[1m\r\n",
      "============================= Training pipeline =============================\u001B[0m\r\n",
      "\u001B[38;5;4mℹ Pipeline: ['tok2vec', 'ner']\u001B[0m\r\n",
      "\u001B[38;5;4mℹ Initial learn rate: 0.001\u001B[0m\r\n",
      "E    #       LOSS TOK2VEC  LOSS NER  ENTS_F  ENTS_P  ENTS_R  SCORE \r\n",
      "---  ------  ------------  --------  ------  ------  ------  ------\r\n",
      "  0       0          0.00     53.27    9.79    5.60   38.55    0.10\r\n",
      " 15     200        281.86   1667.71  100.00  100.00  100.00    1.00\r\n",
      " 34     400          6.60      5.78  100.00  100.00  100.00    1.00\r\n",
      " 58     600          0.00      0.00  100.00  100.00  100.00    1.00\r\n",
      " 88     800         10.06      4.02  100.00  100.00  100.00    1.00\r\n",
      "124    1000         31.07      5.16  100.00  100.00  100.00    1.00\r\n",
      "169    1200        158.28     59.48  100.00  100.00  100.00    1.00\r\n",
      "222    1400         89.75      8.77  100.00  100.00  100.00    1.00\r\n",
      "289    1600         32.00      6.07  100.00  100.00  100.00    1.00\r\n",
      "368    1800         68.65      4.18  100.00  100.00  100.00    1.00\r\n",
      "\u001B[38;5;2m✔ Saved pipeline to output directory\u001B[0m\r\n",
      "output/model-last\r\n"
     ]
    }
   ],
   "source": [
    "!python -m spacy train config.cfg --output output --paths.train training_data_doc.spacy --paths.dev training_data_doc.spacy"
   ],
   "metadata": {
    "collapsed": false,
    "ExecuteTime": {
     "end_time": "2025-05-15T07:01:30.148036Z",
     "start_time": "2025-05-15T06:59:48.229381Z"
    }
   },
   "id": "f050afe2d0b77d1c",
   "execution_count": 57
  },
  {
   "cell_type": "code",
   "outputs": [],
   "source": [
    "nlp_news = spacy.load('output/model-best')"
   ],
   "metadata": {
    "collapsed": false,
    "ExecuteTime": {
     "end_time": "2025-05-15T07:08:54.783292Z",
     "start_time": "2025-05-15T07:08:54.612402Z"
    }
   },
   "id": "165e89ba6763cc43",
   "execution_count": 59
  },
  {
   "cell_type": "code",
   "outputs": [],
   "source": [
    "doc = nlp_news(''' Vladimir Putin has led Russia's Victory Day commemorations with a parade in Red Square and heightened security after days of Ukrainian strikes targeting the capital.\n",
    "\n",
    "China's Xi Jinping joined Putin as the Russian president told thousands of soldiers and more than 20 international leaders that Russia remembered the lessons of World War Two.\n",
    "\n",
    "Putin used his speech to tie the war to today's full-scale invasion of Ukraine, and said all of Russia was behind what he called the \"special military operation\" - now well into its fourth year.\n",
    "\n",
    "For the first time, a column of trucks carrying various combat drones took part in the Victory Day parade, apparently because of their widescale use in Ukraine.''')"
   ],
   "metadata": {
    "collapsed": false,
    "ExecuteTime": {
     "end_time": "2025-05-15T07:08:55.956271Z",
     "start_time": "2025-05-15T07:08:55.939556Z"
    }
   },
   "id": "684a4d415f048369",
   "execution_count": 60
  },
  {
   "cell_type": "code",
   "outputs": [
    {
     "data": {
      "text/plain": "<IPython.core.display.HTML object>",
      "text/html": "<span class=\"tex2jax_ignore\"><div class=\"entities\" style=\"line-height: 2.5; direction: ltr\"> \n<mark class=\"entity\" style=\"background: #aa9cfc; padding: 0.45em 0.6em; margin: 0 0.25em; line-height: 1; border-radius: 0.35em;\">\n    Vladimir Putin\n    <span style=\"font-size: 0.8em; font-weight: bold; line-height: 1; border-radius: 0.35em; vertical-align: middle; margin-left: 0.5rem\">PERSON</span>\n</mark>\n has led \n<mark class=\"entity\" style=\"background: #feca74; padding: 0.45em 0.6em; margin: 0 0.25em; line-height: 1; border-radius: 0.35em;\">\n    Russia\n    <span style=\"font-size: 0.8em; font-weight: bold; line-height: 1; border-radius: 0.35em; vertical-align: middle; margin-left: 0.5rem\">GPE</span>\n</mark>\n's \n<mark class=\"entity\" style=\"background: #feca74; padding: 0.45em 0.6em; margin: 0 0.25em; line-height: 1; border-radius: 0.35em;\">\n    Victory\n    <span style=\"font-size: 0.8em; font-weight: bold; line-height: 1; border-radius: 0.35em; vertical-align: middle; margin-left: 0.5rem\">GPE</span>\n</mark>\n Day commemorations with a parade in Red Square and heightened security after days of \n<mark class=\"entity\" style=\"background: #feca74; padding: 0.45em 0.6em; margin: 0 0.25em; line-height: 1; border-radius: 0.35em;\">\n    Ukrainian\n    <span style=\"font-size: 0.8em; font-weight: bold; line-height: 1; border-radius: 0.35em; vertical-align: middle; margin-left: 0.5rem\">GPE</span>\n</mark>\n strikes targeting the capital.<br><br>China's Xi Jinping joined \n<mark class=\"entity\" style=\"background: #aa9cfc; padding: 0.45em 0.6em; margin: 0 0.25em; line-height: 1; border-radius: 0.35em;\">\n    Putin\n    <span style=\"font-size: 0.8em; font-weight: bold; line-height: 1; border-radius: 0.35em; vertical-align: middle; margin-left: 0.5rem\">PERSON</span>\n</mark>\n as the \n<mark class=\"entity\" style=\"background: #ddd; padding: 0.45em 0.6em; margin: 0 0.25em; line-height: 1; border-radius: 0.35em;\">\n    Russian president\n    <span style=\"font-size: 0.8em; font-weight: bold; line-height: 1; border-radius: 0.35em; vertical-align: middle; margin-left: 0.5rem\">GOVERNMENT_BODY</span>\n</mark>\n told thousands of soldiers and more than 20 international leaders that \n<mark class=\"entity\" style=\"background: #feca74; padding: 0.45em 0.6em; margin: 0 0.25em; line-height: 1; border-radius: 0.35em;\">\n    Russia\n    <span style=\"font-size: 0.8em; font-weight: bold; line-height: 1; border-radius: 0.35em; vertical-align: middle; margin-left: 0.5rem\">GPE</span>\n</mark>\n remembered the lessons of \n<mark class=\"entity\" style=\"background: #feca74; padding: 0.45em 0.6em; margin: 0 0.25em; line-height: 1; border-radius: 0.35em;\">\n    World\n    <span style=\"font-size: 0.8em; font-weight: bold; line-height: 1; border-radius: 0.35em; vertical-align: middle; margin-left: 0.5rem\">GPE</span>\n</mark>\n War Two.<br><br>\n<mark class=\"entity\" style=\"background: #aa9cfc; padding: 0.45em 0.6em; margin: 0 0.25em; line-height: 1; border-radius: 0.35em;\">\n    Putin\n    <span style=\"font-size: 0.8em; font-weight: bold; line-height: 1; border-radius: 0.35em; vertical-align: middle; margin-left: 0.5rem\">PERSON</span>\n</mark>\n used his speech to tie the war to today's full-scale invasion of \n<mark class=\"entity\" style=\"background: #feca74; padding: 0.45em 0.6em; margin: 0 0.25em; line-height: 1; border-radius: 0.35em;\">\n    Ukraine\n    <span style=\"font-size: 0.8em; font-weight: bold; line-height: 1; border-radius: 0.35em; vertical-align: middle; margin-left: 0.5rem\">GPE</span>\n</mark>\n, and said all of \n<mark class=\"entity\" style=\"background: #feca74; padding: 0.45em 0.6em; margin: 0 0.25em; line-height: 1; border-radius: 0.35em;\">\n    Russia\n    <span style=\"font-size: 0.8em; font-weight: bold; line-height: 1; border-radius: 0.35em; vertical-align: middle; margin-left: 0.5rem\">GPE</span>\n</mark>\n was behind what he called the &quot;special military operation&quot; - now well into its fourth year.<br><br>For the first time, a column of trucks carrying various combat drones took part in the \n<mark class=\"entity\" style=\"background: #ddd; padding: 0.45em 0.6em; margin: 0 0.25em; line-height: 1; border-radius: 0.35em;\">\n    Victory Day\n    <span style=\"font-size: 0.8em; font-weight: bold; line-height: 1; border-radius: 0.35em; vertical-align: middle; margin-left: 0.5rem\">GOVERNMENT_BODY</span>\n</mark>\n parade, apparently because of their widescale use in Ukraine.</div></span>"
     },
     "metadata": {},
     "output_type": "display_data"
    }
   ],
   "source": [
    "spacy.displacy.render(doc, style=\"ent\")"
   ],
   "metadata": {
    "collapsed": false,
    "ExecuteTime": {
     "end_time": "2025-05-15T07:10:33.757650Z",
     "start_time": "2025-05-15T07:10:33.754998Z"
    }
   },
   "id": "4c10645004aae849",
   "execution_count": 61
  },
  {
   "cell_type": "code",
   "outputs": [],
   "source": [],
   "metadata": {
    "collapsed": false
   },
   "id": "5b39068ff135651a"
  }
 ],
 "metadata": {
  "kernelspec": {
   "display_name": "Python 3",
   "language": "python",
   "name": "python3"
  },
  "language_info": {
   "codemirror_mode": {
    "name": "ipython",
    "version": 2
   },
   "file_extension": ".py",
   "mimetype": "text/x-python",
   "name": "python",
   "nbconvert_exporter": "python",
   "pygments_lexer": "ipython2",
   "version": "2.7.6"
  }
 },
 "nbformat": 4,
 "nbformat_minor": 5
}
