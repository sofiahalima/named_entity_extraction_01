{
 "cells": [
  {
   "cell_type": "code",
   "execution_count": 62,
   "id": "initial_id",
   "metadata": {
    "collapsed": true,
    "ExecuteTime": {
     "end_time": "2025-05-21T03:53:42.097597Z",
     "start_time": "2025-05-21T03:53:42.093935Z"
    }
   },
   "outputs": [],
   "source": [
    "import spacy\n",
    "from spacy.tokens import DocBin\n",
    "from tqdm import tqdm\n",
    "import json\n",
    "\n",
    "db = DocBin()"
   ]
  },
  {
   "cell_type": "code",
   "outputs": [
    {
     "name": "stdout",
     "output_type": "stream",
     "text": [
      "/Users/sofiahalima/PycharmProjects/EntityExtractionDemo/.venv/lib/python3.9/site-packages/urllib3/__init__.py:35: NotOpenSSLWarning: urllib3 v2 only supports OpenSSL 1.1.1+, currently the 'ssl' module is compiled with 'LibreSSL 2.8.3'. See: https://github.com/urllib3/urllib3/issues/3020\r\n",
      "  warnings.warn(\r\n",
      "Collecting en-core-web-lg==3.8.0\r\n",
      "  Downloading https://github.com/explosion/spacy-models/releases/download/en_core_web_lg-3.8.0/en_core_web_lg-3.8.0-py3-none-any.whl (400.7 MB)\r\n",
      "\u001B[2K     \u001B[90m━━━━━━━━━━━━━━━━━━━━━━━━━━━━━━━━━━━━━━━\u001B[0m \u001B[32m400.7/400.7 MB\u001B[0m \u001B[31m7.3 MB/s\u001B[0m eta \u001B[36m0:00:00\u001B[0m00:01\u001B[0m00:02\u001B[0m\r\n",
      "\u001B[?25h\u001B[38;5;2m✔ Download and installation successful\u001B[0m\r\n",
      "You can now load the package via spacy.load('en_core_web_lg')\r\n"
     ]
    }
   ],
   "source": [
    "!python -m spacy download en_core_web_lg"
   ],
   "metadata": {
    "collapsed": false,
    "ExecuteTime": {
     "end_time": "2025-05-21T03:54:43.980546Z",
     "start_time": "2025-05-21T03:53:44.133136Z"
    }
   },
   "id": "14f4aa3c73ece23c",
   "execution_count": 63
  },
  {
   "cell_type": "code",
   "outputs": [],
   "source": [
    "nlp=spacy.load('en_core_web_lg')\n",
    "from spacy.lang.en import English"
   ],
   "metadata": {
    "collapsed": false,
    "ExecuteTime": {
     "end_time": "2025-05-21T03:54:55.982889Z",
     "start_time": "2025-05-21T03:54:54.928440Z"
    }
   },
   "id": "4bed88430883abc2",
   "execution_count": 64
  },
  {
   "cell_type": "code",
   "outputs": [],
   "source": [
    "file = open('/Users/sofiahalima/PycharmProjects/EntityExtractionDemo/data/annotations.json')\n",
    "training_data = json.load(file)"
   ],
   "metadata": {
    "collapsed": false,
    "ExecuteTime": {
     "end_time": "2025-05-21T03:55:14.338600Z",
     "start_time": "2025-05-21T03:55:14.329636Z"
    }
   },
   "id": "e8733d50d531b897",
   "execution_count": 65
  },
  {
   "cell_type": "code",
   "outputs": [
    {
     "name": "stderr",
     "output_type": "stream",
     "text": [
      "100%|██████████| 24/24 [00:00<00:00, 713.94it/s]\n"
     ]
    }
   ],
   "source": [
    "for text,annotation in tqdm(training_data[\"annotations\"]):\n",
    "    doc = nlp.make_doc(text)\n",
    "    entities=[]\n",
    "    for start, end, label in annotation[\"entities\"]:\n",
    "        span = doc.char_span(start, end, label=label, alignment_mode=\"contract\")\n",
    "        if span is not None:\n",
    "            entities.append(span)\n",
    "            \n",
    "    doc.ents = entities\n",
    "    db.add(doc)\n",
    "    \n",
    "    db.to_disk(\"training_data_doc.spacy\")"
   ],
   "metadata": {
    "collapsed": false,
    "ExecuteTime": {
     "end_time": "2025-05-21T03:55:19.880650Z",
     "start_time": "2025-05-21T03:55:19.841992Z"
    }
   },
   "id": "f4ef208e1902f36a",
   "execution_count": 66
  },
  {
   "cell_type": "code",
   "outputs": [
    {
     "name": "stdout",
     "output_type": "stream",
     "text": [
      "/Users/sofiahalima/PycharmProjects/EntityExtractionDemo/.venv/lib/python3.9/site-packages/urllib3/__init__.py:35: NotOpenSSLWarning: urllib3 v2 only supports OpenSSL 1.1.1+, currently the 'ssl' module is compiled with 'LibreSSL 2.8.3'. See: https://github.com/urllib3/urllib3/issues/3020\r\n",
      "  warnings.warn(\r\n",
      "\u001B[38;5;3m⚠ To generate a more effective transformer-based config (GPU-only),\r\n",
      "install the spacy-transformers package and re-run this command. The config\r\n",
      "generated now does not use transformers.\u001B[0m\r\n",
      "\u001B[38;5;4mℹ Generated config template specific for your use case\u001B[0m\r\n",
      "- Language: en\r\n",
      "- Pipeline: ner\r\n",
      "- Optimize for: efficiency\r\n",
      "- Hardware: CPU\r\n",
      "- Transformer: None\r\n",
      "\u001B[38;5;2m✔ Auto-filled config with all values\u001B[0m\r\n",
      "\u001B[38;5;2m✔ Saved config\u001B[0m\r\n",
      "config.cfg\r\n",
      "You can now add your data and train your pipeline:\r\n",
      "python -m spacy train config.cfg --paths.train ./train.spacy --paths.dev ./dev.spacy\r\n"
     ]
    }
   ],
   "source": [
    "!python -m spacy init config config.cfg --lang en --pipeline ner --optimize efficiency --force"
   ],
   "metadata": {
    "collapsed": false,
    "ExecuteTime": {
     "end_time": "2025-05-21T03:56:23.096542Z",
     "start_time": "2025-05-21T03:56:22.210970Z"
    }
   },
   "id": "af489f7d22449247",
   "execution_count": 68
  },
  {
   "cell_type": "code",
   "outputs": [
    {
     "name": "stdout",
     "output_type": "stream",
     "text": [
      "/Users/sofiahalima/PycharmProjects/EntityExtractionDemo/.venv/lib/python3.9/site-packages/urllib3/__init__.py:35: NotOpenSSLWarning: urllib3 v2 only supports OpenSSL 1.1.1+, currently the 'ssl' module is compiled with 'LibreSSL 2.8.3'. See: https://github.com/urllib3/urllib3/issues/3020\r\n",
      "  warnings.warn(\r\n",
      "\u001B[38;5;4mℹ Saving to output directory: output\u001B[0m\r\n",
      "\u001B[38;5;4mℹ Using CPU\u001B[0m\r\n",
      "\u001B[1m\r\n",
      "=========================== Initializing pipeline ===========================\u001B[0m\r\n",
      "\u001B[38;5;2m✔ Initialized pipeline\u001B[0m\r\n",
      "\u001B[1m\r\n",
      "============================= Training pipeline =============================\u001B[0m\r\n",
      "\u001B[38;5;4mℹ Pipeline: ['tok2vec', 'ner']\u001B[0m\r\n",
      "\u001B[38;5;4mℹ Initial learn rate: 0.001\u001B[0m\r\n",
      "E    #       LOSS TOK2VEC  LOSS NER  ENTS_F  ENTS_P  ENTS_R  SCORE \r\n",
      "---  ------  ------------  --------  ------  ------  ------  ------\r\n",
      "  0       0          0.00     53.61    0.00    0.00    0.00    0.00\r\n",
      " 28     200        435.98   2116.20  100.00  100.00  100.00    1.00\r\n",
      " 62     400          0.03      0.03  100.00  100.00  100.00    1.00\r\n",
      "105     600          3.09      5.23  100.00  100.00  100.00    1.00\r\n",
      "156     800         10.95      4.11  100.00  100.00  100.00    1.00\r\n",
      "222    1000          0.00      0.00  100.00  100.00  100.00    1.00\r\n",
      "298    1200       1002.51     80.55   98.91   98.91   98.91    0.99\r\n",
      "398    1400         74.19     19.98  100.00  100.00  100.00    1.00\r\n",
      "498    1600          3.88      2.09  100.00  100.00  100.00    1.00\r\n",
      "636    1800         47.88      5.08  100.00  100.00  100.00    1.00\r\n",
      "\u001B[38;5;2m✔ Saved pipeline to output directory\u001B[0m\r\n",
      "output/model-last\r\n"
     ]
    }
   ],
   "source": [
    "!python -m spacy train config.cfg --output output --paths.train training_data_doc.spacy --paths.dev training_data_doc.spacy"
   ],
   "metadata": {
    "collapsed": false,
    "ExecuteTime": {
     "end_time": "2025-05-21T03:58:12.757986Z",
     "start_time": "2025-05-21T03:56:32.374513Z"
    }
   },
   "id": "f050afe2d0b77d1c",
   "execution_count": 69
  },
  {
   "cell_type": "code",
   "outputs": [],
   "source": [
    "nlp_news = spacy.load('output/model-best')"
   ],
   "metadata": {
    "collapsed": false,
    "ExecuteTime": {
     "end_time": "2025-05-21T04:03:13.392100Z",
     "start_time": "2025-05-21T04:03:13.218002Z"
    }
   },
   "id": "165e89ba6763cc43",
   "execution_count": 70
  },
  {
   "cell_type": "code",
   "outputs": [],
   "source": [
    "doc = nlp_news(''' Vladimir Putin has led Russia's Victory Day commemorations with a parade in Red Square and heightened security after days of Ukrainian strikes targeting the capital.\n",
    "\n",
    "China's Xi Jinping joined Putin as the Russian president told thousands of soldiers and more than 20 international leaders that Russia remembered the lessons of World War Two.\n",
    "\n",
    "Putin used his speech to tie the war to today's full-scale invasion of Ukraine, and said all of Russia was behind what he called the \"special military operation\" - now well into its fourth year.\n",
    "\n",
    "For the first time, a column of trucks carrying various combat drones took part in the Victory Day parade, apparently because of their widescale use in Ukraine.''')"
   ],
   "metadata": {
    "collapsed": false,
    "ExecuteTime": {
     "end_time": "2025-05-21T04:03:25.168830Z",
     "start_time": "2025-05-21T04:03:25.151728Z"
    }
   },
   "id": "684a4d415f048369",
   "execution_count": 71
  },
  {
   "cell_type": "code",
   "outputs": [
    {
     "data": {
      "text/plain": "<IPython.core.display.HTML object>",
      "text/html": "<span class=\"tex2jax_ignore\"><div class=\"entities\" style=\"line-height: 2.5; direction: ltr\"> \n<mark class=\"entity\" style=\"background: #aa9cfc; padding: 0.45em 0.6em; margin: 0 0.25em; line-height: 1; border-radius: 0.35em;\">\n    Vladimir Putin\n    <span style=\"font-size: 0.8em; font-weight: bold; line-height: 1; border-radius: 0.35em; vertical-align: middle; margin-left: 0.5rem\">PERSON</span>\n</mark>\n has led Russia's \n<mark class=\"entity\" style=\"background: #aa9cfc; padding: 0.45em 0.6em; margin: 0 0.25em; line-height: 1; border-radius: 0.35em;\">\n    Victory Day commemorations\n    <span style=\"font-size: 0.8em; font-weight: bold; line-height: 1; border-radius: 0.35em; vertical-align: middle; margin-left: 0.5rem\">PERSON</span>\n</mark>\n with a parade in Red \n<mark class=\"entity\" style=\"background: #ddd; padding: 0.45em 0.6em; margin: 0 0.25em; line-height: 1; border-radius: 0.35em;\">\n    Square\n    <span style=\"font-size: 0.8em; font-weight: bold; line-height: 1; border-radius: 0.35em; vertical-align: middle; margin-left: 0.5rem\">GOVERNMENT_BODY</span>\n</mark>\n and heightened security after days of \n<mark class=\"entity\" style=\"background: #feca74; padding: 0.45em 0.6em; margin: 0 0.25em; line-height: 1; border-radius: 0.35em;\">\n    Ukrainian\n    <span style=\"font-size: 0.8em; font-weight: bold; line-height: 1; border-radius: 0.35em; vertical-align: middle; margin-left: 0.5rem\">GPE</span>\n</mark>\n strikes targeting the capital.<br><br>\n<mark class=\"entity\" style=\"background: #aa9cfc; padding: 0.45em 0.6em; margin: 0 0.25em; line-height: 1; border-radius: 0.35em;\">\n    China\n    <span style=\"font-size: 0.8em; font-weight: bold; line-height: 1; border-radius: 0.35em; vertical-align: middle; margin-left: 0.5rem\">PERSON</span>\n</mark>\n's Xi Jinping joined \n<mark class=\"entity\" style=\"background: #aa9cfc; padding: 0.45em 0.6em; margin: 0 0.25em; line-height: 1; border-radius: 0.35em;\">\n    Putin\n    <span style=\"font-size: 0.8em; font-weight: bold; line-height: 1; border-radius: 0.35em; vertical-align: middle; margin-left: 0.5rem\">PERSON</span>\n</mark>\n as the \n<mark class=\"entity\" style=\"background: #ddd; padding: 0.45em 0.6em; margin: 0 0.25em; line-height: 1; border-radius: 0.35em;\">\n    Russian president\n    <span style=\"font-size: 0.8em; font-weight: bold; line-height: 1; border-radius: 0.35em; vertical-align: middle; margin-left: 0.5rem\">GOVERNMENT_BODY</span>\n</mark>\n told thousands of soldiers and more than 20 international leaders that \n<mark class=\"entity\" style=\"background: #feca74; padding: 0.45em 0.6em; margin: 0 0.25em; line-height: 1; border-radius: 0.35em;\">\n    Russia\n    <span style=\"font-size: 0.8em; font-weight: bold; line-height: 1; border-radius: 0.35em; vertical-align: middle; margin-left: 0.5rem\">GPE</span>\n</mark>\n remembered the lessons of World War Two.<br><br>\n<mark class=\"entity\" style=\"background: #aa9cfc; padding: 0.45em 0.6em; margin: 0 0.25em; line-height: 1; border-radius: 0.35em;\">\n    Putin\n    <span style=\"font-size: 0.8em; font-weight: bold; line-height: 1; border-radius: 0.35em; vertical-align: middle; margin-left: 0.5rem\">PERSON</span>\n</mark>\n used his speech to tie the war to today's full-scale invasion of \n<mark class=\"entity\" style=\"background: #feca74; padding: 0.45em 0.6em; margin: 0 0.25em; line-height: 1; border-radius: 0.35em;\">\n    Ukraine\n    <span style=\"font-size: 0.8em; font-weight: bold; line-height: 1; border-radius: 0.35em; vertical-align: middle; margin-left: 0.5rem\">GPE</span>\n</mark>\n, and said all of \n<mark class=\"entity\" style=\"background: #feca74; padding: 0.45em 0.6em; margin: 0 0.25em; line-height: 1; border-radius: 0.35em;\">\n    Russia\n    <span style=\"font-size: 0.8em; font-weight: bold; line-height: 1; border-radius: 0.35em; vertical-align: middle; margin-left: 0.5rem\">GPE</span>\n</mark>\n was behind what he called the &quot;special military operation&quot; - now well into its fourth year.<br><br>For the first time, a column of trucks carrying various combat drones took part in the \n<mark class=\"entity\" style=\"background: #aa9cfc; padding: 0.45em 0.6em; margin: 0 0.25em; line-height: 1; border-radius: 0.35em;\">\n    Victory Day parade\n    <span style=\"font-size: 0.8em; font-weight: bold; line-height: 1; border-radius: 0.35em; vertical-align: middle; margin-left: 0.5rem\">PERSON</span>\n</mark>\n, apparently because of their widescale use in Ukraine.</div></span>"
     },
     "metadata": {},
     "output_type": "display_data"
    }
   ],
   "source": [
    "result =(spacy.displacy.render(doc, style=\"ent\"))"
   ],
   "metadata": {
    "collapsed": false,
    "ExecuteTime": {
     "end_time": "2025-05-21T08:54:09.514214Z",
     "start_time": "2025-05-21T08:54:09.511489Z"
    }
   },
   "id": "4c10645004aae849",
   "execution_count": 73
  },
  {
   "cell_type": "code",
   "outputs": [],
   "source": [],
   "metadata": {
    "collapsed": false
   },
   "id": "5b39068ff135651a"
  }
 ],
 "metadata": {
  "kernelspec": {
   "display_name": "Python 3",
   "language": "python",
   "name": "python3"
  },
  "language_info": {
   "codemirror_mode": {
    "name": "ipython",
    "version": 2
   },
   "file_extension": ".py",
   "mimetype": "text/x-python",
   "name": "python",
   "nbconvert_exporter": "python",
   "pygments_lexer": "ipython2",
   "version": "2.7.6"
  }
 },
 "nbformat": 4,
 "nbformat_minor": 5
}
